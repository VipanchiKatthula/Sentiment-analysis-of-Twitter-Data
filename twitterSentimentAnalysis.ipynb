{
 "cells": [
  {
   "cell_type": "markdown",
   "metadata": {},
   "source": [
    "#### Importing the necessary libraries"
   ]
  },
  {
   "cell_type": "code",
   "execution_count": 1,
   "metadata": {},
   "outputs": [],
   "source": [
    "import re\n",
    "import csv\n",
    "import string\n",
    "import nltk\n",
    "import pandas as pd\n",
    "import numpy as np\n",
    "from numpy import array\n",
    "from nltk.corpus import stopwords\n",
    "from sklearn.feature_extraction.text import TfidfVectorizer\n",
    "from sklearn.model_selection import KFold\n",
    "from sklearn.metrics import accuracy_score\n",
    "from sklearn.metrics import confusion_matrix\n",
    "from sklearn.metrics import recall_score\n",
    "from sklearn.metrics import precision_score"
   ]
  },
  {
   "cell_type": "markdown",
   "metadata": {},
   "source": [
    "#### Reading the files"
   ]
  },
  {
   "cell_type": "code",
   "execution_count": 2,
   "metadata": {},
   "outputs": [],
   "source": [
    "train = pd.read_csv(r\"C:\\Users\\sruth\\Desktop\\SEM 2\\Text Analytics\\train.csv\")\n",
    "test = pd.read_csv(r\"C:\\Users\\sruth\\Desktop\\SEM 2\\Text Analytics\\test.csv\")"
   ]
  },
  {
   "cell_type": "code",
   "execution_count": 3,
   "metadata": {},
   "outputs": [
    {
     "data": {
      "text/plain": [
       "(10000, 4)"
      ]
     },
     "execution_count": 3,
     "metadata": {},
     "output_type": "execute_result"
    }
   ],
   "source": [
    "train.shape\n",
    "test.shape"
   ]
  },
  {
   "cell_type": "markdown",
   "metadata": {},
   "source": [
    "#### Stopwords list"
   ]
  },
  {
   "cell_type": "code",
   "execution_count": 4,
   "metadata": {},
   "outputs": [],
   "source": [
    "list_stop_words = set(stopwords.words('english'))"
   ]
  },
  {
   "cell_type": "markdown",
   "metadata": {},
   "source": [
    "#### Data Cleaning function - Converted to lower case, removed white spaces, punctuations, special characters and stopwords"
   ]
  },
  {
   "cell_type": "code",
   "execution_count": 5,
   "metadata": {},
   "outputs": [],
   "source": [
    "def dataclean (sentimenttext):\n",
    "    # Convert to lower case\n",
    "    sentimenttext = sentimenttext.lower()\n",
    "\n",
    "    # Remove www.* or https?://*\n",
    "    sentimenttext = re.sub('((www\\.[^\\s]+)|(https?://[^\\s]+))|(http?://[^\\s]+)', '', sentimenttext)\n",
    "\n",
    "    # Remove additional white spaces\n",
    "    sentimenttext = re.sub('[\\s]+', ' ', sentimenttext)\n",
    "\n",
    "    # Replace #word with word and remove @word \n",
    "    sentimenttext = re.sub(r'#([^\\s]+)', r'\\1', sentimenttext)\n",
    "    sentimenttext = re.sub(r'@([^\\s]+)', '', sentimenttext) \n",
    "\n",
    "    # Remove special characters, punctuations and replacing apostrophe\n",
    "    sentimenttext = re.sub('&[a-z]+;', '', sentimenttext)\n",
    "    sentimenttext = re.sub(r'\\d+', '', sentimenttext)\n",
    "    sentimenttext = sentimenttext.translate(str.maketrans(string.punctuation,' '*len(string.punctuation)))\n",
    "    sentimenttext = sentimenttext.replace(\"'\", \"\")\n",
    "\n",
    "    # Remove stopwords and trim\n",
    "    sentimenttext = \" \".join([word for word in sentimenttext.split(\" \") if word not in list_stop_words])\n",
    "    sentimenttext = sentimenttext.strip()\n",
    "\n",
    "    return sentimenttext"
   ]
  },
  {
   "cell_type": "markdown",
   "metadata": {},
   "source": [
    "#### Data Cleaning on train and test data"
   ]
  },
  {
   "cell_type": "code",
   "execution_count": 6,
   "metadata": {},
   "outputs": [],
   "source": [
    "train[\"SentimentText\"] = train[\"SentimentText\"].apply(dataclean)\n",
    "test[\"SentimentText\"] = test[\"SentimentText\"].apply(dataclean)"
   ]
  },
  {
   "cell_type": "code",
   "execution_count": 7,
   "metadata": {},
   "outputs": [],
   "source": [
    "#Dropped the unnecessary columns\n",
    "train = train.drop(columns=[\"SentimentSource\"])\n",
    "train = train.drop(columns=[\"ItemID\"])\n",
    "\n",
    "test = test.drop(columns=[\"SentimentSource\"])\n",
    "test = test.drop(columns=[\"ItemID\"])\n",
    "\n",
    "train_label = train[\"Sentiment\"]\n",
    "test_label = test[\"Sentiment\"]"
   ]
  },
  {
   "cell_type": "markdown",
   "metadata": {},
   "source": [
    "#### TF-IDF matrix"
   ]
  },
  {
   "cell_type": "code",
   "execution_count": 8,
   "metadata": {},
   "outputs": [],
   "source": [
    "# Create a TF-IDF matrix using TfidfVectorizer. \n",
    "# On local machine we took 3000 features but on google colab we took 10000 features and ran the code\n",
    "\n",
    "vectorizer = TfidfVectorizer(max_features = 3000)\n",
    "tfidf_train = vectorizer.fit_transform(train['SentimentText']).toarray()\n",
    "tfidf_test = vectorizer.transform(test['SentimentText']).toarray()"
   ]
  },
  {
   "cell_type": "markdown",
   "metadata": {},
   "source": [
    "#### Logistic Regression"
   ]
  },
  {
   "cell_type": "code",
   "execution_count": 9,
   "metadata": {},
   "outputs": [],
   "source": [
    "#Logistic Regression \n",
    "\n",
    "#sigmoid function\n",
    "def sigmoid(X, weight):\n",
    "    z = np.dot(X, weight)\n",
    "    return 1 / (1 + np.exp(-z))\n",
    "\n",
    "#calculating the gradient\n",
    "def gradient_descent(X, h, y):\n",
    "    return np.dot(X.T, (h - y)) / y.shape[0]\n",
    "\n",
    "#updating the weights which is weight - learning rate multiplied by gradient\n",
    "def updated_weight(weight, learning_rate, gradient):\n",
    "    return weight - learning_rate * gradient\n",
    "\n",
    "def predict(x, theta):\n",
    "    theta_new = theta[:, np.newaxis]\n",
    "    return sigmoid(x,theta_new)\n",
    "\n",
    "\n",
    "# Iterate and learn the parameters\n",
    "def gradient(X, y):\n",
    "    num_iter = 100\n",
    "    theta = np.zeros(X.shape[1])\n",
    "    for i in range(num_iter):\n",
    "        h = sigmoid(X, theta)\n",
    "        gradient = gradient_descent(X, h, y)\n",
    "        theta = updated_weight(theta, 0.1, gradient)\n",
    "    return theta\n",
    "\n",
    "\n",
    "# The avg probability for 0 and 1 in the training data is around 0.5 so we set the threshold for classification at this mean.          \n",
    "def accuracy_score(actual, pred):\n",
    "    predicted_class = ((pred >= 0.5) .astype(int))\n",
    "    predicted_class = predicted_class.flatten()\n",
    "    acc = np.mean(predicted_class == actual)\n",
    "    return acc"
   ]
  },
  {
   "cell_type": "markdown",
   "metadata": {},
   "source": [
    "#### Cross Validation"
   ]
  },
  {
   "cell_type": "code",
   "execution_count": 10,
   "metadata": {},
   "outputs": [
    {
     "name": "stdout",
     "output_type": "stream",
     "text": [
      "Accuracy over 10-fold cross validations are:  [0.70466667 0.70622222 0.69888889 0.70077778 0.69744444 0.69566667\n",
      " 0.69777778 0.69277778 0.7        0.70255556]\n",
      "Mean accuracy:  0.6996777777777778\n"
     ]
    }
   ],
   "source": [
    "# Initialize 10-fold cross validation\n",
    "kfold = KFold(10, True, 1)\n",
    "bestaccuracy = 0\n",
    "scores = np.array([])\n",
    "theta_final = np.zeros(tfidf_train.shape[1])\n",
    "\n",
    "#Splitting the train data to train and validation and Iterating over folds.\n",
    "for train, test in kfold.split(tfidf_train):\n",
    "    X_train = tfidf_train[train]\n",
    "    X_test = tfidf_train[test]    \n",
    "    Y_train = train_label[train]\n",
    "    Y_test = train_label[test]\n",
    "\n",
    "\n",
    "    theta_out = gradient(X_train, Y_train)\n",
    "    pred = predict(X_test, theta_out)\n",
    "    acc_score = accuracy_score(Y_test, pred)\n",
    "\n",
    "#Accuracy for each fold\n",
    "    scores = np.append(scores, acc_score)\n",
    "    \n",
    "    if(acc_score > bestaccuracy):\n",
    "        theta_final = theta_out\n",
    "        bestaccuracy = acc_score\n",
    "\n",
    "print(\"Accuracy over 10-fold cross validations are: \", scores)\n",
    "print(\"Mean accuracy: \", scores.mean())"
   ]
  },
  {
   "cell_type": "markdown",
   "metadata": {},
   "source": [
    "####  predicting on test data"
   ]
  },
  {
   "cell_type": "code",
   "execution_count": 11,
   "metadata": {
    "scrolled": true
   },
   "outputs": [
    {
     "data": {
      "text/plain": [
       "0.7094"
      ]
     },
     "execution_count": 11,
     "metadata": {},
     "output_type": "execute_result"
    }
   ],
   "source": [
    "test_predicted = predict(tfidf_test, theta_final)\n",
    "\n",
    "#Accuracy on test data\n",
    "accuracy_test = accuracy_score(test_label, test_predicted)\n",
    "accuracy_test"
   ]
  },
  {
   "cell_type": "markdown",
   "metadata": {},
   "source": [
    "#### Performance (precision, recall) of the model on  test dataset.\n",
    "#### Confusion Matrix"
   ]
  },
  {
   "cell_type": "code",
   "execution_count": 12,
   "metadata": {
    "scrolled": true
   },
   "outputs": [
    {
     "name": "stdout",
     "output_type": "stream",
     "text": [
      "      0     1\n",
      "0  1763  2243\n",
      "1   663  5331\n"
     ]
    }
   ],
   "source": [
    "# Create confusion matrix\n",
    "confusionMatrix = pd.DataFrame(data = confusion_matrix(test_label, (test_predicted >= 0.5) .astype(int)), columns=[\"0\", \"1\"], index = [\"0\", \"1\"])\n",
    "print(confusionMatrix)"
   ]
  },
  {
   "cell_type": "markdown",
   "metadata": {},
   "source": [
    "#### Precision value"
   ]
  },
  {
   "cell_type": "code",
   "execution_count": 13,
   "metadata": {
    "scrolled": true
   },
   "outputs": [
    {
     "name": "stdout",
     "output_type": "stream",
     "text": [
      "Precision:  70.39\n"
     ]
    }
   ],
   "source": [
    "# Precision = TP/(TP + FP)\n",
    "precision = round((confusionMatrix.iloc[1, 1] / (confusionMatrix.iloc[1, 1] + confusionMatrix.iloc[0, 1])) * 100, 2)\n",
    "print(\"Precision: \", precision)"
   ]
  },
  {
   "cell_type": "markdown",
   "metadata": {},
   "source": [
    "#### Recall value"
   ]
  },
  {
   "cell_type": "code",
   "execution_count": 14,
   "metadata": {},
   "outputs": [
    {
     "name": "stdout",
     "output_type": "stream",
     "text": [
      "Recall:  88.94\n"
     ]
    }
   ],
   "source": [
    "# Recall = TP/(TP + FN)\n",
    "recall = round((confusionMatrix.iloc[1, 1] / (confusionMatrix.iloc[1, 1] + confusionMatrix.iloc[1, 0])) * 100, 2)\n",
    "print(\"Recall: \", recall)"
   ]
  }
 ],
 "metadata": {
  "kernelspec": {
   "display_name": "Python 3",
   "language": "python",
   "name": "python3"
  },
  "language_info": {
   "codemirror_mode": {
    "name": "ipython",
    "version": 3
   },
   "file_extension": ".py",
   "mimetype": "text/x-python",
   "name": "python",
   "nbconvert_exporter": "python",
   "pygments_lexer": "ipython3",
   "version": "3.7.3"
  },
  "pycharm": {
   "stem_cell": {
    "cell_type": "raw",
    "source": [],
    "metadata": {
     "collapsed": false
    }
   }
  }
 },
 "nbformat": 4,
 "nbformat_minor": 2
}